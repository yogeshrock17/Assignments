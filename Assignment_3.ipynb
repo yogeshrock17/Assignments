{
 "cells": [
  {
   "cell_type": "markdown",
   "id": "d044997a",
   "metadata": {},
   "source": [
    "Ques 1. Why are functions advantageous to have in your programs?\n",
    "\n",
    "Ans. We can prevent repeating the same code block repeatedly in a program. It can be separated into numerous functions which is simple to track. It makes programs simpler to read and understand."
   ]
  },
  {
   "cell_type": "markdown",
   "id": "4db86e8c",
   "metadata": {},
   "source": [
    "Ques 2. When does the code in a function run: when it's specified or when it's called?\n",
    "\n",
    "Ans.The code in a function run when the function is called."
   ]
  },
  {
   "cell_type": "markdown",
   "id": "bf3d1dc2",
   "metadata": {},
   "source": [
    "Ques 3. What statement creates a function?\n",
    "\n",
    "Ans. def statements is used to create a function."
   ]
  },
  {
   "cell_type": "markdown",
   "id": "2559ffde",
   "metadata": {},
   "source": [
    "Ques 4. What is the difference between a function and a function call?\n",
    "\n",
    "Ans.\n",
    "    \n",
    "    Function - A function is a block of code that does a particular operation and returns a result. It usually accepts inputs as parameters and returns a result. The parameters are not mandatory.\n",
    "    \n",
    "    Function Call - A function call is the code used to pass control to a function."
   ]
  },
  {
   "cell_type": "markdown",
   "id": "c383e8c1",
   "metadata": {},
   "source": [
    "Ques 5. How many global scopes are there in a Python program? How many local scopes?\n",
    "\n",
    "Ans. There is only one global scope and local scope in python program."
   ]
  },
  {
   "cell_type": "markdown",
   "id": "72eb398c",
   "metadata": {},
   "source": [
    "Ques 6. What happens to variables in a local scope when the function call returns?\n",
    "\n",
    "Ans. When the function call returns, the local scope is destroyed, and all the variables in it are forgotten."
   ]
  },
  {
   "cell_type": "markdown",
   "id": "a93e50a8",
   "metadata": {},
   "source": [
    "Ques 7. What is the concept of a return value? Is it possible to have a return value in an expression?\n",
    "\n",
    "Ans. A return is a value that a function returns to the calling script or function when it completes its task. Yes it is possible to have return value as expression."
   ]
  },
  {
   "cell_type": "markdown",
   "id": "d1a525e6",
   "metadata": {},
   "source": [
    "Ques 8. If a function does not have a return statement, what is the return value of a call to that function?\n",
    "\n",
    "Ans. If function does not have the return statement, then the return value of a call to that function will be none."
   ]
  },
  {
   "cell_type": "markdown",
   "id": "973330ff",
   "metadata": {},
   "source": [
    "Ques 9. How do you make a function variable refer to the global variable?\n",
    "\n",
    "Ans. A global statement will force a variable in a function to refer to the global variable."
   ]
  },
  {
   "cell_type": "markdown",
   "id": "4802d8e3",
   "metadata": {},
   "source": [
    "Ques 10. What is the data type of None?\n",
    "\n",
    "Ans. Nonetype"
   ]
  },
  {
   "cell_type": "markdown",
   "id": "c9d92c94",
   "metadata": {},
   "source": [
    "Ques 11. What does the sentence import areallyourpetsnamederic do?\n",
    "\n",
    "Ans. import areallyourpetsnamederic statement import the module named areallyourpetsnamederic."
   ]
  },
  {
   "cell_type": "markdown",
   "id": "5bb3fb53",
   "metadata": {},
   "source": [
    "Ques 12. If you had a bacon() feature in a spam module, what would you call it after importing spam?\n",
    "\n",
    "Ans.  spam.bacon()"
   ]
  },
  {
   "cell_type": "markdown",
   "id": "27e683a9",
   "metadata": {},
   "source": [
    "Ques 13. What can you do to save a programme from crashing if it encounters an error?\n",
    "\n",
    "Ans. To save a programme from crashing if it encounters an error we can use error handling. We have to try clause in which we have to mention the code which is giving error."
   ]
  },
  {
   "cell_type": "markdown",
   "id": "03b0df7b",
   "metadata": {},
   "source": [
    "Ques 14. What is the purpose of the try clause? What is the purpose of the except clause?\n",
    "\n",
    "Ans. \n",
    "\n",
    "      The try block lets you test a block of code for errors.\n",
    "      \n",
    "      The except block lets you handle the error."
   ]
  }
 ],
 "metadata": {
  "kernelspec": {
   "display_name": "Python 3 (ipykernel)",
   "language": "python",
   "name": "python3"
  },
  "language_info": {
   "codemirror_mode": {
    "name": "ipython",
    "version": 3
   },
   "file_extension": ".py",
   "mimetype": "text/x-python",
   "name": "python",
   "nbconvert_exporter": "python",
   "pygments_lexer": "ipython3",
   "version": "3.9.13"
  }
 },
 "nbformat": 4,
 "nbformat_minor": 5
}
