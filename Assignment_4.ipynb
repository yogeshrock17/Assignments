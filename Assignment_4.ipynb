{
 "cells": [
  {
   "cell_type": "markdown",
   "id": "95ee1594",
   "metadata": {},
   "source": [
    "Ques 1. What exactly is []?\n",
    "\n",
    "Ans. List having no value."
   ]
  },
  {
   "cell_type": "markdown",
   "id": "6c854c59",
   "metadata": {},
   "source": [
    "Ques 2. In a list of values stored in a variable called spam, how would you assign the value 'hello' as the\n",
    "third value? (Assume [2, 4, 6, 8, 10] are in spam.)\n",
    "\n",
    "Ans. Assume spam= [2,4,6,8,10]\n",
    "     \n",
    "     \n",
    "     then spam[2] = 'Hello'"
   ]
  },
  {
   "cell_type": "code",
   "execution_count": 5,
   "id": "3c915323",
   "metadata": {},
   "outputs": [
    {
     "name": "stdout",
     "output_type": "stream",
     "text": [
      "[2, 4, 'hello', 8, 10]\n"
     ]
    }
   ],
   "source": [
    "spam = [2,4,6,8,10]\n",
    "spam[2] = 'hello'\n",
    "print(spam)"
   ]
  },
  {
   "cell_type": "markdown",
   "id": "222b4833",
   "metadata": {},
   "source": [
    "Let's pretend the spam includes the list ['a', 'b', 'c', 'd'] for the next three queries.\n"
   ]
  },
  {
   "cell_type": "markdown",
   "id": "1af0b8b8",
   "metadata": {},
   "source": [
    "Ques 3. What is the value of spam[int(int('3'* 2) / 11)]?\n",
    "\n",
    "Ans. d"
   ]
  },
  {
   "cell_type": "code",
   "execution_count": 1,
   "id": "bd1a81b8",
   "metadata": {},
   "outputs": [
    {
     "data": {
      "text/plain": [
       "'d'"
      ]
     },
     "execution_count": 1,
     "metadata": {},
     "output_type": "execute_result"
    }
   ],
   "source": [
    "spam = ['a', 'b','c','d']\n",
    "spam[int(int('3'* 2) / 11)]"
   ]
  },
  {
   "cell_type": "markdown",
   "id": "3ca33f5a",
   "metadata": {},
   "source": [
    "Ques 4. What is the value of spam[-1]?\n",
    "Ans. 'd'"
   ]
  },
  {
   "cell_type": "code",
   "execution_count": 7,
   "id": "5ba60ceb",
   "metadata": {},
   "outputs": [
    {
     "data": {
      "text/plain": [
       "'d'"
      ]
     },
     "execution_count": 7,
     "metadata": {},
     "output_type": "execute_result"
    }
   ],
   "source": [
    "spam = ['a', 'b','c','d']\n",
    "spam[-1]\n"
   ]
  },
  {
   "cell_type": "markdown",
   "id": "bc940898",
   "metadata": {},
   "source": [
    "Ques 5. What is the value of spam[:2]?\n",
    "\n",
    "Ans. ['a', 'b']"
   ]
  },
  {
   "cell_type": "code",
   "execution_count": 8,
   "id": "4395004f",
   "metadata": {},
   "outputs": [
    {
     "data": {
      "text/plain": [
       "['a', 'b']"
      ]
     },
     "execution_count": 8,
     "metadata": {},
     "output_type": "execute_result"
    }
   ],
   "source": [
    "spam[:2]"
   ]
  },
  {
   "cell_type": "markdown",
   "id": "5d3bcd3c",
   "metadata": {},
   "source": [
    "Let's pretend bacon has the list [3.14,'cat',11,'cat',True] for the next three questions"
   ]
  },
  {
   "cell_type": "markdown",
   "id": "ffba8bcb",
   "metadata": {},
   "source": [
    "Ques 6. What is the value of bacon.index('cat')?\n",
    "\n",
    "Ans 1"
   ]
  },
  {
   "cell_type": "code",
   "execution_count": 12,
   "id": "88d52728",
   "metadata": {},
   "outputs": [
    {
     "data": {
      "text/plain": [
       "1"
      ]
     },
     "execution_count": 12,
     "metadata": {},
     "output_type": "execute_result"
    }
   ],
   "source": [
    "bacon =[3.14,'cat',11,'cat',True]\n",
    "bacon.index('cat')"
   ]
  },
  {
   "cell_type": "markdown",
   "id": "f063ad9c",
   "metadata": {},
   "source": [
    "Ques 7. How does bacon.append(99) change the look of the list value in bacon?\n",
    "\n",
    "Ans. [3.14, 'cat', 11, 'cat', True, 99]"
   ]
  },
  {
   "cell_type": "code",
   "execution_count": 35,
   "id": "93d2079c",
   "metadata": {},
   "outputs": [
    {
     "data": {
      "text/plain": [
       "[3.14, 'cat', 11, 'cat', True, 99]"
      ]
     },
     "execution_count": 35,
     "metadata": {},
     "output_type": "execute_result"
    }
   ],
   "source": [
    "bacon.append(99)\n",
    "bacon\n",
    "\n",
    "\n",
    "\n"
   ]
  },
  {
   "cell_type": "markdown",
   "id": "2d09eb5d",
   "metadata": {},
   "source": [
    "Ques 8. How does bacon.remove('cat') change the look of the list in bacon?\n",
    "\n",
    "Ans. [3.14, 11, 'cat', True, 99]"
   ]
  },
  {
   "cell_type": "code",
   "execution_count": 36,
   "id": "efd8d977",
   "metadata": {},
   "outputs": [
    {
     "data": {
      "text/plain": [
       "[3.14, 11, 'cat', True, 99]"
      ]
     },
     "execution_count": 36,
     "metadata": {},
     "output_type": "execute_result"
    }
   ],
   "source": [
    "bacon.remove('cat')\n",
    "bacon"
   ]
  },
  {
   "cell_type": "markdown",
   "id": "9899b139",
   "metadata": {},
   "source": [
    "Ques 9. What are the list concatenation and list replication operators?\n",
    "\n",
    "Ans. The operator for list concatenation is +, while the operator for replication is *."
   ]
  },
  {
   "cell_type": "markdown",
   "id": "c4d53d31",
   "metadata": {},
   "source": [
    "Ques 10. What is difference between the list methods append() and insert()?\n",
    "\n",
    "Ans. append() will add values only to the end of a list, insert() can add them anywhere in the list."
   ]
  },
  {
   "cell_type": "markdown",
   "id": "33444598",
   "metadata": {},
   "source": [
    "Ques 11. What are the two methods for removing items from a list?\n",
    "\n",
    "Ans. We can use Remove and Pop to remove the items from a list.\n"
   ]
  },
  {
   "cell_type": "markdown",
   "id": "ec42057b",
   "metadata": {},
   "source": [
    "Ques 12. Describe how list values and string values are identical.\n",
    "\n",
    "Ans. Both lists and strings can be passed to len(), have indexes and slices, be used in for loops, be concatenated or replicated, and be used with the in and not in operators. "
   ]
  },
  {
   "cell_type": "markdown",
   "id": "4e798304",
   "metadata": {},
   "source": [
    "Ques 13. What is the difference between tuples and lists?\n",
    "\n",
    "Ans.  Lists are mutable; they can have values added, removed, or changed. Tuples are immutable; they cannot be changed at all. Also, tuples are written using parentheses (), while lists use the square brackets []."
   ]
  },
  {
   "cell_type": "markdown",
   "id": "b4f3a0d4",
   "metadata": {},
   "source": [
    "Ques 14. How do you type a tuple value that only contains the integer 42?\n",
    "\n",
    "Ans. (42)"
   ]
  },
  {
   "cell_type": "markdown",
   "id": "437be837",
   "metadata": {},
   "source": [
    "Ques 15. How do you get a list value's tuple form? How do you get a tuple value's list form?\n",
    "\n",
    "Ans. The tuple() and list() functions."
   ]
  },
  {
   "cell_type": "markdown",
   "id": "d1b7fbda",
   "metadata": {},
   "source": [
    "Ques 16 Variables that \"contain\" list values are not necessarily lists themselves. Instead, what do they\n",
    "contain?\n",
    "\n",
    "Ans. Variables will contain references to list values rather than list values themselves. "
   ]
  },
  {
   "cell_type": "markdown",
   "id": "40262445",
   "metadata": {},
   "source": [
    "Ques 17. How do you distinguish between copy.copy() and copy.deepcopy()?\n",
    "\n",
    "Ans. The copy.copy() function will do a shallow copy of a list, while the copy.deepcopy() function will do a deep copy of a list. That is, only copy.deepcopy() will duplicate any lists inside the list."
   ]
  }
 ],
 "metadata": {
  "kernelspec": {
   "display_name": "Python 3 (ipykernel)",
   "language": "python",
   "name": "python3"
  },
  "language_info": {
   "codemirror_mode": {
    "name": "ipython",
    "version": 3
   },
   "file_extension": ".py",
   "mimetype": "text/x-python",
   "name": "python",
   "nbconvert_exporter": "python",
   "pygments_lexer": "ipython3",
   "version": "3.9.13"
  }
 },
 "nbformat": 4,
 "nbformat_minor": 5
}
