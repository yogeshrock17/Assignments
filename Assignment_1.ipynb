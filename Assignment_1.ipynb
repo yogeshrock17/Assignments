{
 "cells": [
  {
   "cell_type": "markdown",
   "id": "85f488e7",
   "metadata": {},
   "source": [
    "Ques 1. In the below elements which of them are values or an expression? eg:- values can be integer or string and expressions will be mathematical operators.\n",
    "* \n",
    "'hello'\n",
    "-87.8\n",
    "- \n",
    "/ \n",
    "+\n",
    "6 \n",
    "\n",
    "Ans. 1. 'hello'  Values\n",
    "     2. -87.8    Values\n",
    "     3. 6        Values\n",
    "     4. -        Expression\n",
    "     5. /        Expression\n",
    "     6.  +       Expression\n",
    "     7. *        Expression"
   ]
  },
  {
   "cell_type": "markdown",
   "id": "7fb718b1",
   "metadata": {},
   "source": [
    "Ques 2. What is the difference between string and variable?\n",
    "\n",
    "Ans. String- It is a type of information that is used to store in a variable.\n",
    "     Variable- It is a symbol name that is used to store a information.\n"
   ]
  },
  {
   "cell_type": "markdown",
   "id": "c47d0e2d",
   "metadata": {},
   "source": [
    "Ques 3. Describe three different data types.\n",
    "\n",
    "Ans. Three different types of Data types are:-\n",
    "\n",
    "1. String Data type:- A string is a collection of one or more characters put in a single quote, double-quote or triple quote.\n",
    "\n",
    "Ex- string = \"Hello World\"\n",
    "\n",
    "2. Numeric Data type:- Numeric data type represent the data which has numeric value. Numeric value can be integer, floating number or even complex numbers.\n",
    "\n",
    "Ex- Integer - It contains positive or negative whole numbers (without fraction or decimal) like 1,-1 etc.\n",
    "    Float -It is a real number with floating point representation like 1.2,3.8 etc.\n",
    "    Complex Number- It is specified as (real part) + (imaginary part)j. For example – 2+3j\n",
    "    \n",
    "3. Boolean:- It have only two values True or False. True and False with capital ‘T’ and ‘F’ are valid booleans otherwise python will throw an error.\n"
   ]
  },
  {
   "cell_type": "markdown",
   "id": "510838e2",
   "metadata": {},
   "source": [
    "Ques 4. What is an expression made up of? What do all expressions do?\n",
    "\n",
    "Ans.  A combination of operands and operators is called an expression. It produces some value or result after being interpreted by the Python interpreter."
   ]
  },
  {
   "cell_type": "markdown",
   "id": "631cee6c",
   "metadata": {},
   "source": [
    "Ques 5. This assignment statements, like spam = 10. What is the difference between an expression and a statement?\n",
    "\n",
    "Ans. Expressions can be assigned or used as operands, while statements can only be declared. An expression evaluates to a single value. A statement does not."
   ]
  },
  {
   "cell_type": "markdown",
   "id": "a89074b1",
   "metadata": {},
   "source": [
    "Ques 6. After running the following code, what does the variable bacon contain?\n",
    "bacon = 22\n",
    "bacon + 1\n",
    "\n",
    "Ans. 22 because we have only added to +1 to it like bacon + 1 and the bacon will remain untill same we assign a new bacon = bacon + 1."
   ]
  },
  {
   "cell_type": "markdown",
   "id": "5a9eb8fc",
   "metadata": {},
   "source": [
    "Ques 7. What should the values of the following two terms be?\n",
    "'spam' + 'spamspam'\n",
    "'spam' * 3\n",
    "\n",
    "Ans. Both will result :- 'spamspamspam'\n"
   ]
  },
  {
   "cell_type": "markdown",
   "id": "5129b82e",
   "metadata": {},
   "source": [
    "Ques 8. Why is eggs a valid variable name while 100 is invalid?\n",
    "\n",
    "Ans. Variable cannot start with the number and 100 is a number and eggs is not. Ifwe try to use the 100 then we get syntax error which is cannot assign to literal."
   ]
  },
  {
   "cell_type": "markdown",
   "id": "f053eeb6",
   "metadata": {},
   "source": [
    "Ques 9. What three functions can be used to get the integer, floating-point number, or string version of a value?\n",
    "\n",
    "Ans. For the integer number we use int(), for floating-point number we use float() and for string we use str()."
   ]
  },
  {
   "cell_type": "markdown",
   "id": "e154271a",
   "metadata": {},
   "source": [
    "Ques 10. Why does this expression cause an error? How can you fix it?\n",
    "'I have eaten ' + 99 + ' burritos.'\n",
    "\n",
    "Ans. Because in the above statement 99 is a int and other two are string and we can only concatenate str (not \"int\") to str so we need to change 99 from number to string str(99) and then it will execute the code sucessfully.\n",
    "\n",
    "'I have eaten ' + str(99) + ' burritos.'"
   ]
  }
 ],
 "metadata": {
  "kernelspec": {
   "display_name": "Python 3 (ipykernel)",
   "language": "python",
   "name": "python3"
  },
  "language_info": {
   "codemirror_mode": {
    "name": "ipython",
    "version": 3
   },
   "file_extension": ".py",
   "mimetype": "text/x-python",
   "name": "python",
   "nbconvert_exporter": "python",
   "pygments_lexer": "ipython3",
   "version": "3.9.13"
  }
 },
 "nbformat": 4,
 "nbformat_minor": 5
}
