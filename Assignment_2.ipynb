{
 "cells": [
  {
   "cell_type": "markdown",
   "id": "71701a23",
   "metadata": {},
   "source": [
    "Ques 1.What are the two values of the Boolean data type? How do you write them?\n",
    "\n",
    "Ans. The two values of Boolean data type are True and False. The first letter of True and False will always be capital and other remains small letter Like True and False."
   ]
  },
  {
   "cell_type": "markdown",
   "id": "d29456c2",
   "metadata": {},
   "source": [
    "Ques 2. What are the three different types of Boolean operators?\n",
    "\n",
    "Ans. Three different types of Boolean operators are:-\n",
    "    1. AND\n",
    "    2. OR\n",
    "    3. NOT"
   ]
  },
  {
   "cell_type": "markdown",
   "id": "1b9b49c2",
   "metadata": {},
   "source": [
    "Ques 3. Make a list of each Boolean operator's truth tables (i.e. every possible combination of Boolean\n",
    "values for the operator and what it evaluate ).\n",
    "\n",
    "Ans. \n",
    "\n",
    "     \n",
    "     True and True is True.\n",
    "\n",
    "     True and False is False.\n",
    "\n",
    "     False and True is False.\n",
    "\n",
    "     False and False is False.\n",
    "\n",
    "     True or True is True.\n",
    "\n",
    "     True or False is True.\n",
    "\n",
    "     False or True is True.\n",
    "\n",
    "     False or False is False.\n",
    "\n",
    "     Not True is False.\n",
    "\n",
    "     Not False is True.\n"
   ]
  },
  {
   "cell_type": "markdown",
   "id": "304b0f95",
   "metadata": {},
   "source": [
    "Ques 4. What are the values of the following expressions?\n",
    " \n",
    "Ans.  \n",
    "      \n",
    "      1. (5 > 4) and (3 == 5) - False\n",
    "      2. not (5 > 4) - False\n",
    "      3. (5 > 4) or (3 == 5) - True\n",
    "      4. not ((5 > 4) or (3 == 5)) - False\n",
    "      5. (True and True) and (True == False) - False\n",
    "      6. (not False) or (not True) - True"
   ]
  },
  {
   "cell_type": "markdown",
   "id": "16d767fa",
   "metadata": {},
   "source": [
    "Ques 5. What are the six comparison operators?\n",
    "\n",
    "Ans. Six comparision operators are:-\n",
    "\n",
    "     1. Less than(<)\n",
    "     2. Greater than(>)\n",
    "     3. Less than or equal to(<=) \n",
    "     4. Greater than or equal to(>=)\n",
    "     5. Equal to(==)\n",
    "     6. Not equal to(!=)\n"
   ]
  },
  {
   "cell_type": "markdown",
   "id": "ac661f3b",
   "metadata": {},
   "source": [
    "Ques 6. How do you tell the difference between the equal to and assignment operators?Describe a\n",
    "condition and when you would use one.\n",
    "\n",
    "Ans. = is an Assignment Operator it is used to assign the value of variable or expression, while == is an Equal to Operator and it is a relation operator used for comparison (to compare value of both left and right side).\n"
   ]
  },
  {
   "cell_type": "markdown",
   "id": "086a87f4",
   "metadata": {},
   "source": [
    "Ques7. Identify the three blocks in this code:\n",
    "\n",
    "spam = 0\n",
    "\n",
    "if spam == 10:\n",
    "\n",
    "print('eggs')\n",
    "\n",
    "if spam > 5:\n",
    "\n",
    "print('bacon')\n",
    "\n",
    "else:\n",
    "\n",
    "print('ham')\n",
    "\n",
    "print('spam')\n",
    "\n",
    "print('spam')\n",
    "\n",
    "\n",
    "Ans. The three blocks are everything inside the if statement."
   ]
  },
  {
   "cell_type": "markdown",
   "id": "7dcb0cd0",
   "metadata": {},
   "source": [
    "Ques8. Write code that prints Hello if 1 is stored in spam, prints Howdy if 2 is stored in spam, and prints\n",
    "Greetings! if anything else is stored in spam.\n",
    "\n",
    "Ans. \n",
    "\n",
    "if spam == 1:\n",
    "\n",
    "print('Hello')\n",
    "\n",
    "elif spam == 2:\n",
    "\n",
    "print('Howdy')\n",
    "\n",
    "else:\n",
    "\n",
    "print('Greetings!')\n"
   ]
  },
  {
   "cell_type": "markdown",
   "id": "60c1efb7",
   "metadata": {},
   "source": [
    "Ques9.If your programme is stuck in an endless loop, what keys you’ll press?\n",
    "\n",
    "Ans. Ctrl + C\n"
   ]
  },
  {
   "cell_type": "markdown",
   "id": "f8e04d0a",
   "metadata": {},
   "source": [
    "Ques 10. How can you tell the difference between break and continue?\n",
    "\n",
    "Ans. \n",
    "\n",
    "     Break - It terminates the execution of remaining iteration of the loop.\n",
    "     \n",
    "     Continue- It terminates only the current iteration of the loop.\n"
   ]
  },
  {
   "cell_type": "markdown",
   "id": "13b50879",
   "metadata": {},
   "source": [
    "Ques 11. In a for loop, what is the difference between range(10), range(0, 10), and range(0, 10, 1)?\n",
    "\n",
    "Ans. There is no difference in a range(10), range(0, 10), and range(0, 10, 1) using in for loop beacuse all will give same result. "
   ]
  },
  {
   "cell_type": "code",
   "execution_count": 16,
   "id": "6bda571f",
   "metadata": {},
   "outputs": [
    {
     "name": "stdout",
     "output_type": "stream",
     "text": [
      "1\n",
      "2\n",
      "3\n",
      "4\n",
      "5\n",
      "6\n",
      "7\n",
      "8\n",
      "9\n",
      "10\n"
     ]
    }
   ],
   "source": [
    "# Ques 12. Write a short program that prints the numbers 1 to 10 using a for loop. Then write an equivalent program that prints the numbers 1 to 10 using a while loop.\n",
    "\n",
    "#Ans.\n",
    "\n",
    "#While Loop:-\n",
    "\n",
    "i = 1\n",
    "\n",
    "while(i<=10):\n",
    "    \n",
    "    print(i)\n",
    "    \n",
    "    i += 1\n",
    "    \n",
    "\n"
   ]
  },
  {
   "cell_type": "code",
   "execution_count": 15,
   "id": "178e2988",
   "metadata": {},
   "outputs": [
    {
     "name": "stdout",
     "output_type": "stream",
     "text": [
      "1\n",
      "2\n",
      "3\n",
      "4\n",
      "5\n",
      "6\n",
      "7\n",
      "8\n",
      "9\n",
      "10\n"
     ]
    }
   ],
   "source": [
    "#For Loop:-\n",
    "\n",
    "\n",
    "for i in range(1, 11):\n",
    "    \n",
    "    print(i)"
   ]
  },
  {
   "cell_type": "markdown",
   "id": "36a0fb20",
   "metadata": {},
   "source": [
    "Ques 13. If you had a function named bacon() inside a module named spam, how would you call it after\n",
    "importing spam?\n",
    "\n",
    "Ans.This function can be called with spam.bacon()."
   ]
  }
 ],
 "metadata": {
  "kernelspec": {
   "display_name": "Python 3 (ipykernel)",
   "language": "python",
   "name": "python3"
  },
  "language_info": {
   "codemirror_mode": {
    "name": "ipython",
    "version": 3
   },
   "file_extension": ".py",
   "mimetype": "text/x-python",
   "name": "python",
   "nbconvert_exporter": "python",
   "pygments_lexer": "ipython3",
   "version": "3.9.13"
  }
 },
 "nbformat": 4,
 "nbformat_minor": 5
}
